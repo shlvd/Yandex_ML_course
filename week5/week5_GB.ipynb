{
 "cells": [
  {
   "cell_type": "code",
   "execution_count": 21,
   "metadata": {},
   "outputs": [],
   "source": [
    "import pandas as pd\n",
    "import numpy as np\n",
    "import matplotlib.pyplot as plt\n",
    "%matplotlib inline\n",
    "from sklearn.ensemble import GradientBoostingClassifier, GradientBoostingRegressor, RandomForestClassifier\n",
    "from sklearn.metrics import log_loss\n",
    "from sklearn.model_selection import train_test_split, cross_val_score, KFold"
   ]
  },
  {
   "cell_type": "code",
   "execution_count": 3,
   "metadata": {},
   "outputs": [
    {
     "data": {
      "text/html": [
       "<div>\n",
       "<style scoped>\n",
       "    .dataframe tbody tr th:only-of-type {\n",
       "        vertical-align: middle;\n",
       "    }\n",
       "\n",
       "    .dataframe tbody tr th {\n",
       "        vertical-align: top;\n",
       "    }\n",
       "\n",
       "    .dataframe thead th {\n",
       "        text-align: right;\n",
       "    }\n",
       "</style>\n",
       "<table border=\"1\" class=\"dataframe\">\n",
       "  <thead>\n",
       "    <tr style=\"text-align: right;\">\n",
       "      <th></th>\n",
       "      <th>Activity</th>\n",
       "      <th>D1</th>\n",
       "      <th>D2</th>\n",
       "      <th>D3</th>\n",
       "      <th>D4</th>\n",
       "      <th>D5</th>\n",
       "      <th>D6</th>\n",
       "      <th>D7</th>\n",
       "      <th>D8</th>\n",
       "      <th>D9</th>\n",
       "      <th>...</th>\n",
       "      <th>D1767</th>\n",
       "      <th>D1768</th>\n",
       "      <th>D1769</th>\n",
       "      <th>D1770</th>\n",
       "      <th>D1771</th>\n",
       "      <th>D1772</th>\n",
       "      <th>D1773</th>\n",
       "      <th>D1774</th>\n",
       "      <th>D1775</th>\n",
       "      <th>D1776</th>\n",
       "    </tr>\n",
       "  </thead>\n",
       "  <tbody>\n",
       "    <tr>\n",
       "      <th>0</th>\n",
       "      <td>1</td>\n",
       "      <td>0.000000</td>\n",
       "      <td>0.497009</td>\n",
       "      <td>0.10</td>\n",
       "      <td>0.0</td>\n",
       "      <td>0.132956</td>\n",
       "      <td>0.678031</td>\n",
       "      <td>0.273166</td>\n",
       "      <td>0.585445</td>\n",
       "      <td>0.743663</td>\n",
       "      <td>...</td>\n",
       "      <td>0</td>\n",
       "      <td>0</td>\n",
       "      <td>0</td>\n",
       "      <td>0</td>\n",
       "      <td>0</td>\n",
       "      <td>0</td>\n",
       "      <td>0</td>\n",
       "      <td>0</td>\n",
       "      <td>0</td>\n",
       "      <td>0</td>\n",
       "    </tr>\n",
       "    <tr>\n",
       "      <th>1</th>\n",
       "      <td>1</td>\n",
       "      <td>0.366667</td>\n",
       "      <td>0.606291</td>\n",
       "      <td>0.05</td>\n",
       "      <td>0.0</td>\n",
       "      <td>0.111209</td>\n",
       "      <td>0.803455</td>\n",
       "      <td>0.106105</td>\n",
       "      <td>0.411754</td>\n",
       "      <td>0.836582</td>\n",
       "      <td>...</td>\n",
       "      <td>1</td>\n",
       "      <td>1</td>\n",
       "      <td>1</td>\n",
       "      <td>1</td>\n",
       "      <td>0</td>\n",
       "      <td>1</td>\n",
       "      <td>0</td>\n",
       "      <td>0</td>\n",
       "      <td>1</td>\n",
       "      <td>0</td>\n",
       "    </tr>\n",
       "    <tr>\n",
       "      <th>2</th>\n",
       "      <td>1</td>\n",
       "      <td>0.033300</td>\n",
       "      <td>0.480124</td>\n",
       "      <td>0.00</td>\n",
       "      <td>0.0</td>\n",
       "      <td>0.209791</td>\n",
       "      <td>0.610350</td>\n",
       "      <td>0.356453</td>\n",
       "      <td>0.517720</td>\n",
       "      <td>0.679051</td>\n",
       "      <td>...</td>\n",
       "      <td>0</td>\n",
       "      <td>0</td>\n",
       "      <td>0</td>\n",
       "      <td>0</td>\n",
       "      <td>0</td>\n",
       "      <td>0</td>\n",
       "      <td>0</td>\n",
       "      <td>0</td>\n",
       "      <td>0</td>\n",
       "      <td>0</td>\n",
       "    </tr>\n",
       "    <tr>\n",
       "      <th>3</th>\n",
       "      <td>1</td>\n",
       "      <td>0.000000</td>\n",
       "      <td>0.538825</td>\n",
       "      <td>0.00</td>\n",
       "      <td>0.5</td>\n",
       "      <td>0.196344</td>\n",
       "      <td>0.724230</td>\n",
       "      <td>0.235606</td>\n",
       "      <td>0.288764</td>\n",
       "      <td>0.805110</td>\n",
       "      <td>...</td>\n",
       "      <td>0</td>\n",
       "      <td>0</td>\n",
       "      <td>0</td>\n",
       "      <td>0</td>\n",
       "      <td>0</td>\n",
       "      <td>0</td>\n",
       "      <td>0</td>\n",
       "      <td>0</td>\n",
       "      <td>0</td>\n",
       "      <td>0</td>\n",
       "    </tr>\n",
       "    <tr>\n",
       "      <th>4</th>\n",
       "      <td>0</td>\n",
       "      <td>0.100000</td>\n",
       "      <td>0.517794</td>\n",
       "      <td>0.00</td>\n",
       "      <td>0.0</td>\n",
       "      <td>0.494734</td>\n",
       "      <td>0.781422</td>\n",
       "      <td>0.154361</td>\n",
       "      <td>0.303809</td>\n",
       "      <td>0.812646</td>\n",
       "      <td>...</td>\n",
       "      <td>0</td>\n",
       "      <td>0</td>\n",
       "      <td>0</td>\n",
       "      <td>0</td>\n",
       "      <td>0</td>\n",
       "      <td>0</td>\n",
       "      <td>0</td>\n",
       "      <td>0</td>\n",
       "      <td>0</td>\n",
       "      <td>0</td>\n",
       "    </tr>\n",
       "  </tbody>\n",
       "</table>\n",
       "<p>5 rows × 1777 columns</p>\n",
       "</div>"
      ],
      "text/plain": [
       "   Activity        D1        D2    D3   D4        D5        D6        D7  \\\n",
       "0         1  0.000000  0.497009  0.10  0.0  0.132956  0.678031  0.273166   \n",
       "1         1  0.366667  0.606291  0.05  0.0  0.111209  0.803455  0.106105   \n",
       "2         1  0.033300  0.480124  0.00  0.0  0.209791  0.610350  0.356453   \n",
       "3         1  0.000000  0.538825  0.00  0.5  0.196344  0.724230  0.235606   \n",
       "4         0  0.100000  0.517794  0.00  0.0  0.494734  0.781422  0.154361   \n",
       "\n",
       "         D8        D9  ...  D1767  D1768  D1769  D1770  D1771  D1772  D1773  \\\n",
       "0  0.585445  0.743663  ...      0      0      0      0      0      0      0   \n",
       "1  0.411754  0.836582  ...      1      1      1      1      0      1      0   \n",
       "2  0.517720  0.679051  ...      0      0      0      0      0      0      0   \n",
       "3  0.288764  0.805110  ...      0      0      0      0      0      0      0   \n",
       "4  0.303809  0.812646  ...      0      0      0      0      0      0      0   \n",
       "\n",
       "   D1774  D1775  D1776  \n",
       "0      0      0      0  \n",
       "1      0      1      0  \n",
       "2      0      0      0  \n",
       "3      0      0      0  \n",
       "4      0      0      0  \n",
       "\n",
       "[5 rows x 1777 columns]"
      ]
     },
     "execution_count": 3,
     "metadata": {},
     "output_type": "execute_result"
    }
   ],
   "source": [
    "df = pd.read_csv('gbm-data.csv')\n",
    "df.head()"
   ]
  },
  {
   "cell_type": "code",
   "execution_count": 9,
   "metadata": {},
   "outputs": [],
   "source": [
    "X = df.iloc[:, 1:].values\n",
    "y = df['Activity'].values\n",
    "\n",
    "X_train, X_test, y_train, y_test = train_test_split(X, y, test_size=0.8, random_state=241)"
   ]
  },
  {
   "cell_type": "code",
   "execution_count": 11,
   "metadata": {},
   "outputs": [],
   "source": [
    "def sigmoid(y_pred):\n",
    "    return 1.0 / (1.0 + np.exp(-y_pred))"
   ]
  },
  {
   "cell_type": "code",
   "execution_count": 12,
   "metadata": {},
   "outputs": [],
   "source": [
    "def log_loss_results(clf, X, y):\n",
    "    return [log_loss(y, sigmoid(y_pred)) for y_pred in clf.staged_decision_function(X)]"
   ]
  },
  {
   "cell_type": "code",
   "execution_count": 19,
   "metadata": {},
   "outputs": [
    {
     "name": "stdout",
     "output_type": "stream",
     "text": [
      "      Iter       Train Loss   Remaining Time \n",
      "         1           1.0190           28.29s\n",
      "         2           0.9192           30.60s\n",
      "         3           0.8272           28.52s\n",
      "         4           0.7834           28.02s\n",
      "         5           0.7109           27.60s\n",
      "         6           0.6368           28.69s\n",
      "         7           0.5797           28.23s\n",
      "         8           0.5610           27.43s\n",
      "         9           0.5185           27.57s\n",
      "        10           0.4984           28.02s\n",
      "        20           0.1999           26.68s\n",
      "        30           0.1313           24.67s\n",
      "        40           0.0790           23.42s\n",
      "        50           0.0511           22.18s\n",
      "        60           0.0352           20.99s\n",
      "        70           0.0245           19.84s\n",
      "        80           0.0162           18.79s\n",
      "        90           0.0114           17.65s\n",
      "       100           0.0077           16.82s\n",
      "       200           0.0004            4.98s\n"
     ]
    },
    {
     "data": {
      "image/png": "[encoded data removed]",
      "text/plain": [
       "<Figure size 432x288 with 1 Axes>"
      ]
     },
     "metadata": {
      "needs_background": "light"
     },
     "output_type": "display_data"
    },
    {
     "name": "stdout",
     "output_type": "stream",
     "text": [
      "Learning rate = 1, min_train_loss = 0.00020857611394801452, n_estimators = 181\n",
      "Learning rate = 1, min_test_loss = 0.5822942594278475, n_estimators = 1\n",
      "      Iter       Train Loss   Remaining Time \n",
      "         1           1.1255           23.31s\n",
      "         2           1.0035           25.64s\n",
      "         3           0.9386           24.73s\n",
      "         4           0.8844           24.23s\n",
      "         5           0.8381           24.47s\n",
      "         6           0.7995           23.56s\n",
      "         7           0.7559           23.40s\n",
      "         8           0.7205           23.72s\n",
      "         9           0.6958           23.51s\n",
      "        10           0.6725           22.94s\n",
      "        20           0.4672           21.26s\n",
      "        30           0.3179           20.40s\n",
      "        40           0.2274           19.44s\n",
      "        50           0.1774           18.34s\n",
      "        60           0.1394           17.41s\n",
      "        70           0.1050           16.51s\n",
      "        80           0.0805           15.58s\n",
      "        90           0.0650           14.65s\n",
      "       100           0.0511           13.73s\n",
      "       200           0.0058            4.54s\n"
     ]
    },
    {
     "data": {
      "image/png": "[encoded data removed]",
      "text/plain": [
       "<Figure size 432x288 with 1 Axes>"
      ]
     },
     "metadata": {
      "needs_background": "light"
     },
     "output_type": "display_data"
    },
    {
     "name": "stdout",
     "output_type": "stream",
     "text": [
      "Learning rate = 0.5, min_train_loss = 0.0010223680763683201, n_estimators = 250\n",
      "Learning rate = 0.5, min_test_loss = 0.5560965876181979, n_estimators = 7\n",
      "      Iter       Train Loss   Remaining Time \n",
      "         1           1.2095           27.19s\n",
      "         2           1.1006           27.08s\n",
      "         3           1.0240           26.71s\n",
      "         4           0.9729           25.71s\n",
      "         5           0.9387           25.17s\n",
      "         6           0.8948           24.69s\n",
      "         7           0.8621           24.33s\n",
      "         8           0.8360           24.35s\n",
      "         9           0.8171           23.76s\n",
      "        10           0.7883           23.61s\n",
      "        20           0.6164           21.70s\n",
      "        30           0.4933           20.41s\n",
      "        40           0.4248           19.09s\n",
      "        50           0.3345           18.26s\n",
      "        60           0.2760           17.25s\n",
      "        70           0.2263           16.38s\n",
      "        80           0.1971           15.38s\n",
      "        90           0.1693           14.42s\n",
      "       100           0.1388           13.57s\n",
      "       200           0.0294            4.52s\n"
     ]
    },
    {
     "data": {
      "image/png": "[encoded data removed]",
      "text/plain": [
       "<Figure size 432x288 with 1 Axes>"
      ]
     },
     "metadata": {
      "needs_background": "light"
     },
     "output_type": "display_data"
    },
    {
     "name": "stdout",
     "output_type": "stream",
     "text": [
      "Learning rate = 0.3, min_train_loss = 0.006887291001447366, n_estimators = 250\n",
      "Learning rate = 0.3, min_test_loss = 0.5432596932316428, n_estimators = 11\n",
      "      Iter       Train Loss   Remaining Time \n",
      "         1           1.2613           35.11s\n",
      "         2           1.1715           32.49s\n",
      "         3           1.1009           31.45s\n",
      "         4           1.0529           30.16s\n",
      "         5           1.0130           30.73s\n",
      "         6           0.9740           34.41s\n",
      "         7           0.9475           34.58s\n",
      "         8           0.9197           35.49s\n",
      "         9           0.8979           33.69s\n",
      "        10           0.8730           33.05s\n",
      "        20           0.7207           28.54s\n",
      "        30           0.6055           24.92s\n",
      "        40           0.5244           22.55s\n",
      "        50           0.4501           20.81s\n",
      "        60           0.3908           19.32s\n",
      "        70           0.3372           18.08s\n",
      "        80           0.3009           16.90s\n",
      "        90           0.2603           15.80s\n",
      "       100           0.2327           14.70s\n",
      "       200           0.0835            5.28s\n"
     ]
    },
    {
     "data": {
      "image/png": "[encoded data removed]",
      "text/plain": [
       "<Figure size 432x288 with 1 Axes>"
      ]
     },
     "metadata": {
      "needs_background": "light"
     },
     "output_type": "display_data"
    },
    {
     "name": "stdout",
     "output_type": "stream",
     "text": [
      "Learning rate = 0.2, min_train_loss = 0.024906124380084924, n_estimators = 250\n",
      "Learning rate = 0.2, min_test_loss = 0.5314949511258739, n_estimators = 37\n",
      "      Iter       Train Loss   Remaining Time \n",
      "         1           1.3199           27.19s\n",
      "         2           1.2645           27.08s\n",
      "         3           1.2170           26.97s\n",
      "         4           1.1775           26.86s\n",
      "         5           1.1404           26.75s\n",
      "         6           1.1106           26.01s\n",
      "         7           1.0844           25.99s\n",
      "         8           1.0617           25.95s\n",
      "         9           1.0411           25.90s\n",
      "        10           1.0223           25.46s\n",
      "        20           0.8864           23.68s\n",
      "        30           0.7844           21.96s\n",
      "        40           0.7176           20.64s\n",
      "        50           0.6590           19.41s\n",
      "        60           0.6120           18.44s\n",
      "        70           0.5599           17.46s\n",
      "        80           0.5242           16.32s\n",
      "        90           0.4829           15.40s\n",
      "       100           0.4473           14.54s\n",
      "       200           0.2379            5.47s\n"
     ]
    },
    {
     "data": {
      "image/png": "[encoded data removed]",
      "text/plain": [
       "<Figure size 432x288 with 1 Axes>"
      ]
     },
     "metadata": {
      "needs_background": "light"
     },
     "output_type": "display_data"
    },
    {
     "name": "stdout",
     "output_type": "stream",
     "text": [
      "Learning rate = 0.1, min_train_loss = 0.08936962416274087, n_estimators = 250\n",
      "Learning rate = 0.1, min_test_loss = 0.5254924770369842, n_estimators = 52\n"
     ]
    }
   ],
   "source": [
    "\n",
    "for i in [1, 0.5, 0.3, 0.2, 0.1]:\n",
    "    gbc = GradientBoostingClassifier(n_estimators=250, verbose=True, random_state=241, learning_rate=i)\n",
    "    gbc.fit(X_train, y_train)\n",
    "    \n",
    "    train_loss = log_loss_results(gbc, X_train, y_train)\n",
    "    test_loss = log_loss_results(gbc, X_test, y_test)\n",
    "    \n",
    "    plt.figure()\n",
    "    plt.plot(test_loss, 'r', linewidth=2)\n",
    "    plt.plot(train_loss, 'g', linewidth=2)\n",
    "    plt.legend(['test', 'train'])\n",
    "    plt.title('Learning rate'+ str(i))\n",
    "    plt.show()\n",
    "    \n",
    "    min_loss_index_train = train_loss.index(min(train_loss)) + 1\n",
    "    min_loss_index_test = test_loss.index(min(test_loss)) + 1\n",
    "    print('Learning rate = {}, min_train_loss = {}, n_estimators = {}'.format(i, min(train_loss), min_loss_index_train))\n",
    "    print('Learning rate = {}, min_test_loss = {}, n_estimators = {}'.format(i, min(test_loss), min_loss_index_test))"
   ]
  },
  {
   "cell_type": "code",
   "execution_count": 25,
   "metadata": {},
   "outputs": [
    {
     "name": "stdout",
     "output_type": "stream",
     "text": [
      "0.5410941951182815\n"
     ]
    }
   ],
   "source": [
    "rfc = RandomForestClassifier(n_estimators=37, random_state=241)\n",
    "rfc.fit(X_train, y_train)\n",
    "\n",
    "y_pred = rfc.predict_proba(X_test)[:, 1]\n",
    "test_loss = log_loss(y_test, y_pred)\n",
    "print(test_loss)"
   ]
  }
 ],
 "metadata": {
  "kernelspec": {
   "display_name": "Python 3",
   "language": "python",
   "name": "python3"
  },
  "language_info": {
   "codemirror_mode": {
    "name": "ipython",
    "version": 3
   },
   "file_extension": ".py",
   "mimetype": "text/x-python",
   "name": "python",
   "nbconvert_exporter": "python",
   "pygments_lexer": "ipython3",
   "version": "3.7.3"
  }
 },
 "nbformat": 4,
 "nbformat_minor": 2
}
