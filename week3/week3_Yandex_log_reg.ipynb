{
 "cells": [
  {
   "cell_type": "code",
   "execution_count": 1,
   "metadata": {},
   "outputs": [],
   "source": [
    "import numpy as np\n",
    "import pandas as pd\n",
    "from sklearn.metrics import roc_auc_score"
   ]
  },
  {
   "cell_type": "code",
   "execution_count": 5,
   "metadata": {},
   "outputs": [
    {
     "data": {
      "text/html": [
       "<div>\n",
       "<style scoped>\n",
       "    .dataframe tbody tr th:only-of-type {\n",
       "        vertical-align: middle;\n",
       "    }\n",
       "\n",
       "    .dataframe tbody tr th {\n",
       "        vertical-align: top;\n",
       "    }\n",
       "\n",
       "    .dataframe thead th {\n",
       "        text-align: right;\n",
       "    }\n",
       "</style>\n",
       "<table border=\"1\" class=\"dataframe\">\n",
       "  <thead>\n",
       "    <tr style=\"text-align: right;\">\n",
       "      <th></th>\n",
       "      <th>0</th>\n",
       "      <th>1</th>\n",
       "      <th>2</th>\n",
       "    </tr>\n",
       "  </thead>\n",
       "  <tbody>\n",
       "    <tr>\n",
       "      <th>0</th>\n",
       "      <td>-1</td>\n",
       "      <td>-0.663827</td>\n",
       "      <td>-0.138526</td>\n",
       "    </tr>\n",
       "    <tr>\n",
       "      <th>1</th>\n",
       "      <td>1</td>\n",
       "      <td>1.994596</td>\n",
       "      <td>2.468025</td>\n",
       "    </tr>\n",
       "    <tr>\n",
       "      <th>2</th>\n",
       "      <td>-1</td>\n",
       "      <td>-1.247395</td>\n",
       "      <td>0.749425</td>\n",
       "    </tr>\n",
       "    <tr>\n",
       "      <th>3</th>\n",
       "      <td>1</td>\n",
       "      <td>2.309374</td>\n",
       "      <td>1.899836</td>\n",
       "    </tr>\n",
       "    <tr>\n",
       "      <th>4</th>\n",
       "      <td>1</td>\n",
       "      <td>0.849143</td>\n",
       "      <td>2.407750</td>\n",
       "    </tr>\n",
       "  </tbody>\n",
       "</table>\n",
       "</div>"
      ],
      "text/plain": [
       "   0         1         2\n",
       "0 -1 -0.663827 -0.138526\n",
       "1  1  1.994596  2.468025\n",
       "2 -1 -1.247395  0.749425\n",
       "3  1  2.309374  1.899836\n",
       "4  1  0.849143  2.407750"
      ]
     },
     "execution_count": 5,
     "metadata": {},
     "output_type": "execute_result"
    }
   ],
   "source": [
    "df = pd.read_csv('data-logistic.csv', header=None)\n",
    "df.head()"
   ]
  },
  {
   "cell_type": "code",
   "execution_count": 60,
   "metadata": {},
   "outputs": [],
   "source": [
    "X = df.loc[:,1:]\n",
    "y = df.loc[:,0]\n"
   ]
  },
  {
   "cell_type": "code",
   "execution_count": 112,
   "metadata": {},
   "outputs": [],
   "source": [
    "def w_calc(X, y, w, k, C=0):\n",
    "    grad1, grad2 = 0, 0\n",
    "    for i in range(0, len(y)):\n",
    "        grad1 += y[i] * X[1][i] * (1.0 - 1.0 / (1.0 + np.exp(-y[i] * (w[0]*X[1][i] + w[1]*X[2][i]))))\n",
    "        grad2 += y[i] * X[2][i] * (1.0 - 1.0 / (1.0 + np.exp(-y[i] * (w[0]*X[1][i] + w[1]*X[2][i]))))\n",
    "    w[0] = w[0] + (k * (1.0 / len(y)) * grad1) \n",
    "    w[1] = w[1] + (k * (1.0 / len(y)) * grad2)\n",
    "    return w   "
   ]
  },
  {
   "cell_type": "code",
   "execution_count": 64,
   "metadata": {},
   "outputs": [],
   "source": [
    "def w_calc_l2(X, y, w, k, C):\n",
    "    grad1, grad2 = 0, 0\n",
    "    for i in range(0, len(y)):\n",
    "        grad1 += y[i] * X[1][i] * (1.0 - 1.0 / (1.0 + np.exp(-y[i] * (w[0]*X[1][i] + w[1]*X[2][i]))))\n",
    "        grad2 += y[i] * X[2][i] * (1.0 - 1.0 / (1.0 + np.exp(-y[i] * (w[0]*X[1][i] + w[1]*X[2][i]))))\n",
    "    w[0] = w[0] + (k * (1.0 / len(y)) * grad1) - k * C * w[0]\n",
    "    w[1] = w[1] + (k * (1.0 / len(y)) * grad2) - k * C * w[1]\n",
    "    return w    "
   ]
  },
  {
   "cell_type": "code",
   "execution_count": 124,
   "metadata": {},
   "outputs": [],
   "source": [
    "def GD_l2(X, y, C=10, k=0.1, w=[0,0], eps=1e-5, max_iter=10000):\n",
    "    w_prev = [0, 0]\n",
    "    for i in range(max_iter):\n",
    "        w_prev[0], w_prev[1] = w[0], w[1]\n",
    "        w = w_calc_l2(X, y, w, k, C)\n",
    "        if np.sqrt((w_prev[0] - w[0]) ** 2 + (w_prev[1] - w[1]) ** 2) <= eps:\n",
    "            break\n",
    "\n",
    "    return w"
   ]
  },
  {
   "cell_type": "code",
   "execution_count": 100,
   "metadata": {},
   "outputs": [],
   "source": [
    "def GD(X, y, C=0, k=0.1, w=[0,0], eps=1e-5, max_iter=10000):\n",
    "    w_prev = [0, 0]\n",
    "    for i in range(max_iter):\n",
    "        w_prev[0], w_prev[1] = w[0], w[1]\n",
    "        w = w_calc(X, y, w, k)\n",
    "        if np.sqrt((w_prev[0] - w[0]) ** 2 + (w_prev[1] - w[1]) ** 2) <= eps:\n",
    "            break\n",
    "\n",
    "    return w"
   ]
  },
  {
   "cell_type": "code",
   "execution_count": 126,
   "metadata": {},
   "outputs": [],
   "source": [
    "w = GD(X, y)\n",
    "w_l2 = GD_l2(X, y)"
   ]
  },
  {
   "cell_type": "code",
   "execution_count": 127,
   "metadata": {
    "scrolled": false
   },
   "outputs": [
    {
     "name": "stdout",
     "output_type": "stream",
     "text": [
      "[0.2878513597515838, 0.09194655615666857]\n",
      "[0.028559612385813844, 0.024781077163038526]\n"
     ]
    }
   ],
   "source": [
    "print(w)\n",
    "print(w_l2)"
   ]
  },
  {
   "cell_type": "code",
   "execution_count": 128,
   "metadata": {},
   "outputs": [
    {
     "name": "stdout",
     "output_type": "stream",
     "text": [
      "0.927 0.936\n"
     ]
    }
   ],
   "source": [
    "def a(X, w):\n",
    "    return 1.0 / (1.0 + np.exp(-w[0] * X[1] - w[1] * X[2]))\n",
    "\n",
    "y_pred = a(X, w)\n",
    "y_pred_l2 = a(X, w_l2)\n",
    "\n",
    "auc = roc_auc_score(y, y_pred)\n",
    "auc_l2 = roc_auc_score(y, y_pred_l2)\n",
    "\n",
    "print(round(auc,3),round(auc_l2,3))"
   ]
  }
 ],
 "metadata": {
  "kernelspec": {
   "display_name": "Python 3",
   "language": "python",
   "name": "python3"
  },
  "language_info": {
   "codemirror_mode": {
    "name": "ipython",
    "version": 3
   },
   "file_extension": ".py",
   "mimetype": "text/x-python",
   "name": "python",
   "nbconvert_exporter": "python",
   "pygments_lexer": "ipython3",
   "version": "3.7.3"
  }
 },
 "nbformat": 4,
 "nbformat_minor": 2
}
