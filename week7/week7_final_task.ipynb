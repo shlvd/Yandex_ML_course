{
 "cells": [
  {
   "cell_type": "code",
   "execution_count": 1,
   "metadata": {},
   "outputs": [],
   "source": [
    "import datetime\n",
    "import numpy as np\n",
    "import pandas as pd\n",
    "from sklearn.model_selection import KFold, cross_val_score\n",
    "from sklearn.preprocessing import StandardScaler\n",
    "from sklearn.ensemble import GradientBoostingClassifier\n",
    "from sklearn.linear_model import LogisticRegression\n",
    "import matplotlib.pyplot as plt\n",
    "%matplotlib inline\n",
    "\n",
    "import warnings\n",
    "warnings.filterwarnings('ignore')"
   ]
  },
  {
   "cell_type": "markdown",
   "metadata": {},
   "source": [
    "# Подход 1: градиентный бустинг \"в лоб\"\n",
    "## 1. Считайте таблицу с признаками из файла features.csv\n",
    "Удалите признаки, связанные с итогами матча (они помечены в описании данных как отсутствующие в тестовой выборке)."
   ]
  },
  {
   "cell_type": "code",
   "execution_count": 2,
   "metadata": {},
   "outputs": [
    {
     "data": {
      "text/html": [
       "<div>\n",
       "<style scoped>\n",
       "    .dataframe tbody tr th:only-of-type {\n",
       "        vertical-align: middle;\n",
       "    }\n",
       "\n",
       "    .dataframe tbody tr th {\n",
       "        vertical-align: top;\n",
       "    }\n",
       "\n",
       "    .dataframe thead th {\n",
       "        text-align: right;\n",
       "    }\n",
       "</style>\n",
       "<table border=\"1\" class=\"dataframe\">\n",
       "  <thead>\n",
       "    <tr style=\"text-align: right;\">\n",
       "      <th></th>\n",
       "      <th>start_time</th>\n",
       "      <th>lobby_type</th>\n",
       "      <th>r1_hero</th>\n",
       "      <th>r1_level</th>\n",
       "      <th>r1_xp</th>\n",
       "      <th>r1_gold</th>\n",
       "      <th>r1_lh</th>\n",
       "      <th>r1_kills</th>\n",
       "      <th>r1_deaths</th>\n",
       "      <th>r1_items</th>\n",
       "      <th>...</th>\n",
       "      <th>dire_boots_count</th>\n",
       "      <th>dire_ward_observer_count</th>\n",
       "      <th>dire_ward_sentry_count</th>\n",
       "      <th>dire_first_ward_time</th>\n",
       "      <th>duration</th>\n",
       "      <th>radiant_win</th>\n",
       "      <th>tower_status_radiant</th>\n",
       "      <th>tower_status_dire</th>\n",
       "      <th>barracks_status_radiant</th>\n",
       "      <th>barracks_status_dire</th>\n",
       "    </tr>\n",
       "    <tr>\n",
       "      <th>match_id</th>\n",
       "      <th></th>\n",
       "      <th></th>\n",
       "      <th></th>\n",
       "      <th></th>\n",
       "      <th></th>\n",
       "      <th></th>\n",
       "      <th></th>\n",
       "      <th></th>\n",
       "      <th></th>\n",
       "      <th></th>\n",
       "      <th></th>\n",
       "      <th></th>\n",
       "      <th></th>\n",
       "      <th></th>\n",
       "      <th></th>\n",
       "      <th></th>\n",
       "      <th></th>\n",
       "      <th></th>\n",
       "      <th></th>\n",
       "      <th></th>\n",
       "      <th></th>\n",
       "    </tr>\n",
       "  </thead>\n",
       "  <tbody>\n",
       "    <tr>\n",
       "      <th>0</th>\n",
       "      <td>1430198770</td>\n",
       "      <td>7</td>\n",
       "      <td>11</td>\n",
       "      <td>5</td>\n",
       "      <td>2098</td>\n",
       "      <td>1489</td>\n",
       "      <td>20</td>\n",
       "      <td>0</td>\n",
       "      <td>0</td>\n",
       "      <td>7</td>\n",
       "      <td>...</td>\n",
       "      <td>4</td>\n",
       "      <td>2</td>\n",
       "      <td>2</td>\n",
       "      <td>-52.0</td>\n",
       "      <td>2874</td>\n",
       "      <td>1</td>\n",
       "      <td>1796</td>\n",
       "      <td>0</td>\n",
       "      <td>51</td>\n",
       "      <td>0</td>\n",
       "    </tr>\n",
       "    <tr>\n",
       "      <th>1</th>\n",
       "      <td>1430220345</td>\n",
       "      <td>0</td>\n",
       "      <td>42</td>\n",
       "      <td>4</td>\n",
       "      <td>1188</td>\n",
       "      <td>1033</td>\n",
       "      <td>9</td>\n",
       "      <td>0</td>\n",
       "      <td>1</td>\n",
       "      <td>12</td>\n",
       "      <td>...</td>\n",
       "      <td>4</td>\n",
       "      <td>3</td>\n",
       "      <td>1</td>\n",
       "      <td>-5.0</td>\n",
       "      <td>2463</td>\n",
       "      <td>1</td>\n",
       "      <td>1974</td>\n",
       "      <td>0</td>\n",
       "      <td>63</td>\n",
       "      <td>1</td>\n",
       "    </tr>\n",
       "    <tr>\n",
       "      <th>2</th>\n",
       "      <td>1430227081</td>\n",
       "      <td>7</td>\n",
       "      <td>33</td>\n",
       "      <td>4</td>\n",
       "      <td>1319</td>\n",
       "      <td>1270</td>\n",
       "      <td>22</td>\n",
       "      <td>0</td>\n",
       "      <td>0</td>\n",
       "      <td>12</td>\n",
       "      <td>...</td>\n",
       "      <td>4</td>\n",
       "      <td>3</td>\n",
       "      <td>1</td>\n",
       "      <td>13.0</td>\n",
       "      <td>2130</td>\n",
       "      <td>0</td>\n",
       "      <td>0</td>\n",
       "      <td>1830</td>\n",
       "      <td>0</td>\n",
       "      <td>63</td>\n",
       "    </tr>\n",
       "    <tr>\n",
       "      <th>3</th>\n",
       "      <td>1430263531</td>\n",
       "      <td>1</td>\n",
       "      <td>29</td>\n",
       "      <td>4</td>\n",
       "      <td>1779</td>\n",
       "      <td>1056</td>\n",
       "      <td>14</td>\n",
       "      <td>0</td>\n",
       "      <td>0</td>\n",
       "      <td>5</td>\n",
       "      <td>...</td>\n",
       "      <td>4</td>\n",
       "      <td>2</td>\n",
       "      <td>0</td>\n",
       "      <td>27.0</td>\n",
       "      <td>1459</td>\n",
       "      <td>0</td>\n",
       "      <td>1920</td>\n",
       "      <td>2047</td>\n",
       "      <td>50</td>\n",
       "      <td>63</td>\n",
       "    </tr>\n",
       "    <tr>\n",
       "      <th>4</th>\n",
       "      <td>1430282290</td>\n",
       "      <td>7</td>\n",
       "      <td>13</td>\n",
       "      <td>4</td>\n",
       "      <td>1431</td>\n",
       "      <td>1090</td>\n",
       "      <td>8</td>\n",
       "      <td>1</td>\n",
       "      <td>0</td>\n",
       "      <td>8</td>\n",
       "      <td>...</td>\n",
       "      <td>3</td>\n",
       "      <td>3</td>\n",
       "      <td>0</td>\n",
       "      <td>-16.0</td>\n",
       "      <td>2449</td>\n",
       "      <td>0</td>\n",
       "      <td>4</td>\n",
       "      <td>1974</td>\n",
       "      <td>3</td>\n",
       "      <td>63</td>\n",
       "    </tr>\n",
       "  </tbody>\n",
       "</table>\n",
       "<p>5 rows × 108 columns</p>\n",
       "</div>"
      ],
      "text/plain": [
       "          start_time  lobby_type  r1_hero  r1_level  r1_xp  r1_gold  r1_lh  \\\n",
       "match_id                                                                     \n",
       "0         1430198770           7       11         5   2098     1489     20   \n",
       "1         1430220345           0       42         4   1188     1033      9   \n",
       "2         1430227081           7       33         4   1319     1270     22   \n",
       "3         1430263531           1       29         4   1779     1056     14   \n",
       "4         1430282290           7       13         4   1431     1090      8   \n",
       "\n",
       "          r1_kills  r1_deaths  r1_items  ...  dire_boots_count  \\\n",
       "match_id                                 ...                     \n",
       "0                0          0         7  ...                 4   \n",
       "1                0          1        12  ...                 4   \n",
       "2                0          0        12  ...                 4   \n",
       "3                0          0         5  ...                 4   \n",
       "4                1          0         8  ...                 3   \n",
       "\n",
       "          dire_ward_observer_count  dire_ward_sentry_count  \\\n",
       "match_id                                                     \n",
       "0                                2                       2   \n",
       "1                                3                       1   \n",
       "2                                3                       1   \n",
       "3                                2                       0   \n",
       "4                                3                       0   \n",
       "\n",
       "          dire_first_ward_time  duration  radiant_win  tower_status_radiant  \\\n",
       "match_id                                                                      \n",
       "0                        -52.0      2874            1                  1796   \n",
       "1                         -5.0      2463            1                  1974   \n",
       "2                         13.0      2130            0                     0   \n",
       "3                         27.0      1459            0                  1920   \n",
       "4                        -16.0      2449            0                     4   \n",
       "\n",
       "          tower_status_dire  barracks_status_radiant  barracks_status_dire  \n",
       "match_id                                                                    \n",
       "0                         0                       51                     0  \n",
       "1                         0                       63                     1  \n",
       "2                      1830                        0                    63  \n",
       "3                      2047                       50                    63  \n",
       "4                      1974                        3                    63  \n",
       "\n",
       "[5 rows x 108 columns]"
      ]
     },
     "execution_count": 2,
     "metadata": {},
     "output_type": "execute_result"
    }
   ],
   "source": [
    "df = pd.read_csv('features.csv', index_col='match_id')\n",
    "df.head()"
   ]
  },
  {
   "cell_type": "code",
   "execution_count": 3,
   "metadata": {},
   "outputs": [
    {
     "name": "stdout",
     "output_type": "stream",
     "text": [
      "<class 'pandas.core.frame.DataFrame'>\n",
      "Int64Index: 97230 entries, 0 to 114406\n",
      "Columns: 108 entries, start_time to barracks_status_dire\n",
      "dtypes: float64(12), int64(96)\n",
      "memory usage: 80.9 MB\n"
     ]
    }
   ],
   "source": [
    "df.info()"
   ]
  },
  {
   "cell_type": "code",
   "execution_count": 4,
   "metadata": {
    "scrolled": true
   },
   "outputs": [
    {
     "data": {
      "text/html": [
       "<div>\n",
       "<style scoped>\n",
       "    .dataframe tbody tr th:only-of-type {\n",
       "        vertical-align: middle;\n",
       "    }\n",
       "\n",
       "    .dataframe tbody tr th {\n",
       "        vertical-align: top;\n",
       "    }\n",
       "\n",
       "    .dataframe thead th {\n",
       "        text-align: right;\n",
       "    }\n",
       "</style>\n",
       "<table border=\"1\" class=\"dataframe\">\n",
       "  <thead>\n",
       "    <tr style=\"text-align: right;\">\n",
       "      <th></th>\n",
       "      <th>start_time</th>\n",
       "      <th>lobby_type</th>\n",
       "      <th>r1_hero</th>\n",
       "      <th>r1_level</th>\n",
       "      <th>r1_xp</th>\n",
       "      <th>r1_gold</th>\n",
       "      <th>r1_lh</th>\n",
       "      <th>r1_kills</th>\n",
       "      <th>r1_deaths</th>\n",
       "      <th>r1_items</th>\n",
       "      <th>...</th>\n",
       "      <th>dire_boots_count</th>\n",
       "      <th>dire_ward_observer_count</th>\n",
       "      <th>dire_ward_sentry_count</th>\n",
       "      <th>dire_first_ward_time</th>\n",
       "      <th>duration</th>\n",
       "      <th>radiant_win</th>\n",
       "      <th>tower_status_radiant</th>\n",
       "      <th>tower_status_dire</th>\n",
       "      <th>barracks_status_radiant</th>\n",
       "      <th>barracks_status_dire</th>\n",
       "    </tr>\n",
       "  </thead>\n",
       "  <tbody>\n",
       "    <tr>\n",
       "      <th>count</th>\n",
       "      <td>9.723000e+04</td>\n",
       "      <td>97230.000000</td>\n",
       "      <td>97230.000000</td>\n",
       "      <td>97230.000000</td>\n",
       "      <td>97230.000000</td>\n",
       "      <td>97230.000000</td>\n",
       "      <td>97230.000000</td>\n",
       "      <td>97230.000000</td>\n",
       "      <td>97230.000000</td>\n",
       "      <td>97230.000000</td>\n",
       "      <td>...</td>\n",
       "      <td>97230.000000</td>\n",
       "      <td>97230.000000</td>\n",
       "      <td>97230.000000</td>\n",
       "      <td>95404.000000</td>\n",
       "      <td>97230.000000</td>\n",
       "      <td>97230.000000</td>\n",
       "      <td>97230.000000</td>\n",
       "      <td>97230.000000</td>\n",
       "      <td>97230.000000</td>\n",
       "      <td>97230.000000</td>\n",
       "    </tr>\n",
       "    <tr>\n",
       "      <th>mean</th>\n",
       "      <td>1.444232e+09</td>\n",
       "      <td>2.630999</td>\n",
       "      <td>51.517104</td>\n",
       "      <td>3.442672</td>\n",
       "      <td>1233.405801</td>\n",
       "      <td>1147.899702</td>\n",
       "      <td>11.231996</td>\n",
       "      <td>0.357009</td>\n",
       "      <td>0.362285</td>\n",
       "      <td>8.271315</td>\n",
       "      <td>...</td>\n",
       "      <td>3.349553</td>\n",
       "      <td>2.448339</td>\n",
       "      <td>0.689119</td>\n",
       "      <td>-6.901922</td>\n",
       "      <td>2332.247886</td>\n",
       "      <td>0.518503</td>\n",
       "      <td>1309.227790</td>\n",
       "      <td>1286.310820</td>\n",
       "      <td>40.599095</td>\n",
       "      <td>41.337036</td>\n",
       "    </tr>\n",
       "    <tr>\n",
       "      <th>std</th>\n",
       "      <td>5.515393e+06</td>\n",
       "      <td>2.835761</td>\n",
       "      <td>32.564211</td>\n",
       "      <td>1.111741</td>\n",
       "      <td>566.588895</td>\n",
       "      <td>464.111662</td>\n",
       "      <td>9.041620</td>\n",
       "      <td>0.663889</td>\n",
       "      <td>0.626704</td>\n",
       "      <td>2.497575</td>\n",
       "      <td>...</td>\n",
       "      <td>1.155609</td>\n",
       "      <td>0.813459</td>\n",
       "      <td>0.710122</td>\n",
       "      <td>40.701397</td>\n",
       "      <td>715.806850</td>\n",
       "      <td>0.499660</td>\n",
       "      <td>853.921365</td>\n",
       "      <td>851.009148</td>\n",
       "      <td>27.871645</td>\n",
       "      <td>27.064873</td>\n",
       "    </tr>\n",
       "    <tr>\n",
       "      <th>min</th>\n",
       "      <td>1.430199e+09</td>\n",
       "      <td>0.000000</td>\n",
       "      <td>1.000000</td>\n",
       "      <td>0.000000</td>\n",
       "      <td>0.000000</td>\n",
       "      <td>0.000000</td>\n",
       "      <td>0.000000</td>\n",
       "      <td>0.000000</td>\n",
       "      <td>0.000000</td>\n",
       "      <td>0.000000</td>\n",
       "      <td>...</td>\n",
       "      <td>0.000000</td>\n",
       "      <td>0.000000</td>\n",
       "      <td>0.000000</td>\n",
       "      <td>-84.000000</td>\n",
       "      <td>900.000000</td>\n",
       "      <td>0.000000</td>\n",
       "      <td>0.000000</td>\n",
       "      <td>0.000000</td>\n",
       "      <td>0.000000</td>\n",
       "      <td>0.000000</td>\n",
       "    </tr>\n",
       "    <tr>\n",
       "      <th>25%</th>\n",
       "      <td>1.440815e+09</td>\n",
       "      <td>1.000000</td>\n",
       "      <td>22.000000</td>\n",
       "      <td>3.000000</td>\n",
       "      <td>767.000000</td>\n",
       "      <td>746.000000</td>\n",
       "      <td>2.000000</td>\n",
       "      <td>0.000000</td>\n",
       "      <td>0.000000</td>\n",
       "      <td>7.000000</td>\n",
       "      <td>...</td>\n",
       "      <td>3.000000</td>\n",
       "      <td>2.000000</td>\n",
       "      <td>0.000000</td>\n",
       "      <td>-31.000000</td>\n",
       "      <td>1818.000000</td>\n",
       "      <td>0.000000</td>\n",
       "      <td>36.000000</td>\n",
       "      <td>256.000000</td>\n",
       "      <td>3.000000</td>\n",
       "      <td>3.000000</td>\n",
       "    </tr>\n",
       "    <tr>\n",
       "      <th>50%</th>\n",
       "      <td>1.446338e+09</td>\n",
       "      <td>1.000000</td>\n",
       "      <td>50.000000</td>\n",
       "      <td>3.000000</td>\n",
       "      <td>1175.000000</td>\n",
       "      <td>1113.000000</td>\n",
       "      <td>11.000000</td>\n",
       "      <td>0.000000</td>\n",
       "      <td>0.000000</td>\n",
       "      <td>8.000000</td>\n",
       "      <td>...</td>\n",
       "      <td>3.000000</td>\n",
       "      <td>2.000000</td>\n",
       "      <td>1.000000</td>\n",
       "      <td>-16.000000</td>\n",
       "      <td>2268.000000</td>\n",
       "      <td>1.000000</td>\n",
       "      <td>1824.000000</td>\n",
       "      <td>1798.000000</td>\n",
       "      <td>63.000000</td>\n",
       "      <td>60.000000</td>\n",
       "    </tr>\n",
       "    <tr>\n",
       "      <th>75%</th>\n",
       "      <td>1.448829e+09</td>\n",
       "      <td>7.000000</td>\n",
       "      <td>75.000000</td>\n",
       "      <td>4.000000</td>\n",
       "      <td>1704.000000</td>\n",
       "      <td>1479.000000</td>\n",
       "      <td>19.000000</td>\n",
       "      <td>1.000000</td>\n",
       "      <td>1.000000</td>\n",
       "      <td>10.000000</td>\n",
       "      <td>...</td>\n",
       "      <td>4.000000</td>\n",
       "      <td>3.000000</td>\n",
       "      <td>1.000000</td>\n",
       "      <td>8.000000</td>\n",
       "      <td>2778.000000</td>\n",
       "      <td>1.000000</td>\n",
       "      <td>1974.000000</td>\n",
       "      <td>1974.000000</td>\n",
       "      <td>63.000000</td>\n",
       "      <td>63.000000</td>\n",
       "    </tr>\n",
       "    <tr>\n",
       "      <th>max</th>\n",
       "      <td>1.450313e+09</td>\n",
       "      <td>7.000000</td>\n",
       "      <td>112.000000</td>\n",
       "      <td>6.000000</td>\n",
       "      <td>3319.000000</td>\n",
       "      <td>4332.000000</td>\n",
       "      <td>47.000000</td>\n",
       "      <td>8.000000</td>\n",
       "      <td>5.000000</td>\n",
       "      <td>34.000000</td>\n",
       "      <td>...</td>\n",
       "      <td>9.000000</td>\n",
       "      <td>9.000000</td>\n",
       "      <td>13.000000</td>\n",
       "      <td>300.000000</td>\n",
       "      <td>8452.000000</td>\n",
       "      <td>1.000000</td>\n",
       "      <td>2047.000000</td>\n",
       "      <td>2047.000000</td>\n",
       "      <td>63.000000</td>\n",
       "      <td>63.000000</td>\n",
       "    </tr>\n",
       "  </tbody>\n",
       "</table>\n",
       "<p>8 rows × 108 columns</p>\n",
       "</div>"
      ],
      "text/plain": [
       "         start_time    lobby_type       r1_hero      r1_level         r1_xp  \\\n",
       "count  9.723000e+04  97230.000000  97230.000000  97230.000000  97230.000000   \n",
       "mean   1.444232e+09      2.630999     51.517104      3.442672   1233.405801   \n",
       "std    5.515393e+06      2.835761     32.564211      1.111741    566.588895   \n",
       "min    1.430199e+09      0.000000      1.000000      0.000000      0.000000   \n",
       "25%    1.440815e+09      1.000000     22.000000      3.000000    767.000000   \n",
       "50%    1.446338e+09      1.000000     50.000000      3.000000   1175.000000   \n",
       "75%    1.448829e+09      7.000000     75.000000      4.000000   1704.000000   \n",
       "max    1.450313e+09      7.000000    112.000000      6.000000   3319.000000   \n",
       "\n",
       "            r1_gold         r1_lh      r1_kills     r1_deaths      r1_items  \\\n",
       "count  97230.000000  97230.000000  97230.000000  97230.000000  97230.000000   \n",
       "mean    1147.899702     11.231996      0.357009      0.362285      8.271315   \n",
       "std      464.111662      9.041620      0.663889      0.626704      2.497575   \n",
       "min        0.000000      0.000000      0.000000      0.000000      0.000000   \n",
       "25%      746.000000      2.000000      0.000000      0.000000      7.000000   \n",
       "50%     1113.000000     11.000000      0.000000      0.000000      8.000000   \n",
       "75%     1479.000000     19.000000      1.000000      1.000000     10.000000   \n",
       "max     4332.000000     47.000000      8.000000      5.000000     34.000000   \n",
       "\n",
       "       ...  dire_boots_count  dire_ward_observer_count  \\\n",
       "count  ...      97230.000000              97230.000000   \n",
       "mean   ...          3.349553                  2.448339   \n",
       "std    ...          1.155609                  0.813459   \n",
       "min    ...          0.000000                  0.000000   \n",
       "25%    ...          3.000000                  2.000000   \n",
       "50%    ...          3.000000                  2.000000   \n",
       "75%    ...          4.000000                  3.000000   \n",
       "max    ...          9.000000                  9.000000   \n",
       "\n",
       "       dire_ward_sentry_count  dire_first_ward_time      duration  \\\n",
       "count            97230.000000          95404.000000  97230.000000   \n",
       "mean                 0.689119             -6.901922   2332.247886   \n",
       "std                  0.710122             40.701397    715.806850   \n",
       "min                  0.000000            -84.000000    900.000000   \n",
       "25%                  0.000000            -31.000000   1818.000000   \n",
       "50%                  1.000000            -16.000000   2268.000000   \n",
       "75%                  1.000000              8.000000   2778.000000   \n",
       "max                 13.000000            300.000000   8452.000000   \n",
       "\n",
       "        radiant_win  tower_status_radiant  tower_status_dire  \\\n",
       "count  97230.000000          97230.000000       97230.000000   \n",
       "mean       0.518503           1309.227790        1286.310820   \n",
       "std        0.499660            853.921365         851.009148   \n",
       "min        0.000000              0.000000           0.000000   \n",
       "25%        0.000000             36.000000         256.000000   \n",
       "50%        1.000000           1824.000000        1798.000000   \n",
       "75%        1.000000           1974.000000        1974.000000   \n",
       "max        1.000000           2047.000000        2047.000000   \n",
       "\n",
       "       barracks_status_radiant  barracks_status_dire  \n",
       "count             97230.000000          97230.000000  \n",
       "mean                 40.599095             41.337036  \n",
       "std                  27.871645             27.064873  \n",
       "min                   0.000000              0.000000  \n",
       "25%                   3.000000              3.000000  \n",
       "50%                  63.000000             60.000000  \n",
       "75%                  63.000000             63.000000  \n",
       "max                  63.000000             63.000000  \n",
       "\n",
       "[8 rows x 108 columns]"
      ]
     },
     "execution_count": 4,
     "metadata": {},
     "output_type": "execute_result"
    }
   ],
   "source": [
    "df.describe()"
   ]
  },
  {
   "cell_type": "code",
   "execution_count": 5,
   "metadata": {},
   "outputs": [],
   "source": [
    "df.drop(['duration', 'tower_status_radiant', 'tower_status_dire', 'barracks_status_radiant', 'barracks_status_dire'],\n",
    "        axis=1, inplace=True)"
   ]
  },
  {
   "cell_type": "markdown",
   "metadata": {},
   "source": [
    "##  2. Проверьте выборку на наличие пропусков с помощью функции count(), которая       для каждого столбца показывает число   заполненных значений. Много ли пропусков в данных? Запишите названия признаков, имеющих пропуски, и попробуйте для любых двух из них дать обоснование, почему их значения могут быть пропущены."
   ]
  },
  {
   "cell_type": "code",
   "execution_count": 6,
   "metadata": {
    "scrolled": true
   },
   "outputs": [
    {
     "data": {
      "text/plain": [
       "first_blood_player2            0.452402\n",
       "radiant_flying_courier_time    0.282619\n",
       "dire_flying_courier_time       0.268415\n",
       "first_blood_player1            0.201100\n",
       "first_blood_team               0.201100\n",
       "first_blood_time               0.201100\n",
       "dire_bottle_time               0.166029\n",
       "radiant_bottle_time            0.161380\n",
       "radiant_first_ward_time        0.018883\n",
       "dire_first_ward_time           0.018780\n",
       "radiant_courier_time           0.007117\n",
       "dire_courier_time              0.006953\n",
       "dtype: float64"
      ]
     },
     "execution_count": 6,
     "metadata": {},
     "output_type": "execute_result"
    }
   ],
   "source": [
    "(df.shape[0] - df.count())[df.shape[0] - df.count() > 0].sort_values(ascending=False)/len(df)"
   ]
  },
  {
   "cell_type": "markdown",
   "metadata": {},
   "source": [
    "# Признаки, имеющие пропуски:\n",
    "1. first_blood_player2 - первое убийство может быть совершено одним игроком, это достаточно частое явление и происходит в 45% случаев.\n",
    "2. radiant_flying_courier_time - в 28% случаев команда не покупает \"flying_courier\" в первые 5 минут игры.\n",
    "3. dire_flying_courier_time - аналогично radiant_flying_courier_time.\n",
    "4. first_blood_time - в 20% случаев первой крови нет в первые 5 минут игры.\n",
    "5. first_blood_team - аналогично first_blood_time.\n",
    "6. first_blood_player1 - аналогично first_blood_time.\n",
    "7. dire_bottle_time - в 16% случаев команда не приобретает предмет \"bottle\" в первые 5 минут игры.\n",
    "8. radiant_bottle_time - аналогично dire_bottle_time.\n",
    "9. radiant_first_ward_time - очень редкое явление, в 1% случаев команда не ставит \"наблюдателя\" в первые 5 минут игры.\n",
    "10. dire_first_ward_time - аналогично radiant_first_ward_time.\n",
    "11. radiant_courier_time - самое редкое явление, в 0.5% случаев команда не приобретает предмет \"courier\" в первые 5 минут игры.\n",
    "12. dire_courier_time - аналогично radiant_courier_time."
   ]
  },
  {
   "cell_type": "markdown",
   "metadata": {},
   "source": [
    "## 3. Замените пропуски на нули с помощью функции fillna(). \n",
    "На самом деле этот способ является предпочтительным для логистической регрессии, поскольку он позволит пропущенному значению не вносить никакого вклада в предсказание. Для деревьев часто лучшим вариантом оказывается замена пропуска на очень большое или очень маленькое значение — в этом случае при построении разбиения вершины можно будет отправить объекты с пропусками в отдельную ветвь дерева. Также есть и другие подходы — например, замена пропуска на среднее значение признака. Мы не требуем этого в задании, но при желании попробуйте разные подходы к обработке пропусков и сравните их между собой."
   ]
  },
  {
   "cell_type": "code",
   "execution_count": 7,
   "metadata": {},
   "outputs": [],
   "source": [
    "df.fillna(0, inplace=True)"
   ]
  },
  {
   "cell_type": "markdown",
   "metadata": {},
   "source": [
    "## 4. Какой столбец содержит целевую переменную? Запишите его название."
   ]
  },
  {
   "cell_type": "code",
   "execution_count": 8,
   "metadata": {},
   "outputs": [
    {
     "name": "stdout",
     "output_type": "stream",
     "text": [
      "radiant_win\n"
     ]
    }
   ],
   "source": [
    "print(df.columns[-1])"
   ]
  },
  {
   "cell_type": "markdown",
   "metadata": {},
   "source": [
    "## 5. Забудем, что в выборке есть категориальные признаки, и попробуем обучить градиентный бустинг над деревьями на имеющейся матрице \"объекты-признаки\". \n",
    "\n",
    "Зафиксируйте генератор разбиений для кросс-валидации по 5 блокам (KFold), не забудьте перемешать при этом выборку (shuffle=True), поскольку данные в таблице отсортированы по времени, и без перемешивания можно столкнуться с нежелательными эффектами при оценивании качества. Оцените качество градиентного бустинга (GradientBoostingClassifier) с помощью данной кросс-валидации, попробуйте при этом разное количество деревьев (как минимум протестируйте следующие значения для количества деревьев: 10, 20, 30). Долго ли настраивались классификаторы? Достигнут ли оптимум на испытанных значениях параметра n_estimators, или же качество, скорее всего, продолжит расти при дальнейшем его увеличении?\n"
   ]
  },
  {
   "cell_type": "code",
   "execution_count": 9,
   "metadata": {},
   "outputs": [],
   "source": [
    "X_train = df.drop('radiant_win', axis = 1)\n",
    "y_train = df['radiant_win']"
   ]
  },
  {
   "cell_type": "code",
   "execution_count": 12,
   "metadata": {},
   "outputs": [
    {
     "name": "stdout",
     "output_type": "stream",
     "text": [
      "Number of trees: 10\n",
      "Cross validation quality: 0.66483292280491\n",
      "Time elapsed: 0:00:25.400281\n",
      "\n",
      "Number of trees: 20\n",
      "Cross validation quality: 0.6821140369500348\n",
      "Time elapsed: 0:00:49.440169\n",
      "\n",
      "Number of trees: 30\n",
      "Cross validation quality: 0.6896947542059906\n",
      "Time elapsed: 0:01:09.898460\n",
      "\n",
      "Number of trees: 40\n",
      "Cross validation quality: 0.6939341916023564\n",
      "Time elapsed: 0:01:29.722820\n",
      "\n",
      "Number of trees: 50\n",
      "Cross validation quality: 0.6971139526079494\n",
      "Time elapsed: 0:01:53.349327\n",
      "\n",
      "Number of trees: 100\n",
      "Cross validation quality: 0.7062113460515892\n",
      "Time elapsed: 0:03:39.368451\n",
      "\n"
     ]
    }
   ],
   "source": [
    "kf = KFold(n_splits=5, random_state=1, shuffle=True)\n",
    "res_cv_score = []\n",
    "times = []\n",
    "trees = [10, 20, 30, 40, 50, 100]\n",
    "for num_trees in trees:\n",
    "        print('Number of trees: {}'.format(num_trees))\n",
    "        start_time = datetime.datetime.now()\n",
    "        res = cross_val_score(GradientBoostingClassifier(n_estimators=num_trees, random_state=1),\n",
    "                              X_train, y_train, cv=kf, scoring=\"roc_auc\", n_jobs=-1).mean()\n",
    "        res_cv_score.append(res)\n",
    "        print('Cross validation quality: {}'.format(res))\n",
    "        time = datetime.datetime.now() - start_time\n",
    "        times.append(time)\n",
    "        print('Time elapsed: {}'.format(time))\n",
    "        print()\n"
   ]
  },
  {
   "cell_type": "code",
   "execution_count": 30,
   "metadata": {},
   "outputs": [
    {
     "data": {
      "text/plain": [
       "25"
      ]
     },
     "execution_count": 30,
     "metadata": {},
     "output_type": "execute_result"
    }
   ],
   "source": [
    "times[0].seconds"
   ]
  },
  {
   "cell_type": "code",
   "execution_count": 33,
   "metadata": {},
   "outputs": [
    {
     "data": {
      "text/plain": [
       "[<matplotlib.lines.Line2D at 0xaaafd70>]"
      ]
     },
     "execution_count": 33,
     "metadata": {},
     "output_type": "execute_result"
    },
    {
     "data": {
      "image/png": "[encoded data removed]",
      "text/plain": [
       "<Figure size 432x288 with 1 Axes>"
      ]
     },
     "metadata": {
      "needs_background": "light"
     },
     "output_type": "display_data"
    }
   ],
   "source": [
    "plt.plot(trees, res_cv_score)"
   ]
  },
  {
   "cell_type": "code",
   "execution_count": 34,
   "metadata": {},
   "outputs": [
    {
     "data": {
      "text/plain": [
       "[<matplotlib.lines.Line2D at 0x9f64e70>]"
      ]
     },
     "execution_count": 34,
     "metadata": {},
     "output_type": "execute_result"
    },
    {
     "data": {
      "image/png": "[encoded data removed]",
      "text/plain": [
       "<Figure size 432x288 with 1 Axes>"
      ]
     },
     "metadata": {
      "needs_background": "light"
     },
     "output_type": "display_data"
    }
   ],
   "source": [
    "time_sec = []\n",
    "for t in times:\n",
    "    time_sec.append(t.seconds)\n",
    "plt.plot(trees, time_sec)"
   ]
  },
  {
   "cell_type": "markdown",
   "metadata": {},
   "source": [
    "# Отчет GradientBoosting\n",
    "\n",
    "## 1. Признаки, имеющие пропуски:\n",
    "1. first_blood_player2 - первое убийство может быть совершено одним игроком, это достаточно частое явление и происходит в 45% случаев.\n",
    "2. radiant_flying_courier_time - в 28% случаев команда не покупает \"flying_courier\" в первые 5 минут игры.\n",
    "3. dire_flying_courier_time - аналогично radiant_flying_courier_time.\n",
    "4. first_blood_time - в 20% случаев первой крови нет в первые 5 минут игры.\n",
    "5. first_blood_team - аналогично first_blood_time.\n",
    "6. first_blood_player1 - аналогично first_blood_time.\n",
    "7. dire_bottle_time - в 16% случаев команда не приобретает предмет \"bottle\" в первые 5 минут игры.\n",
    "8. radiant_bottle_time - аналогично dire_bottle_time.\n",
    "9. radiant_first_ward_time - очень редкое явление, в 1% случаев команда не ставит \"наблюдателя\" в первые 5 минут игры.\n",
    "10. dire_first_ward_time - аналогично radiant_first_ward_time.\n",
    "11. radiant_courier_time - самое редкое явление, в 0.5% случаев команда не приобретает предмет \"courier\" в первые 5 минут игры.\n",
    "12. dire_courier_time - аналогично radiant_courier_time.\n",
    "\n",
    "## 2. Cтолбец, содержащий целевую переменную, называется  radiant_win\n",
    "\n",
    "## 3. Кросс-валидация для градиентного бустинга с 30 деревьями проводилась 1мин. 9 сек. Качество по метрике AUC-ROC получилось 0,69.\n",
    "\n",
    "## 4.  Показатель метрики AUC-ROC  для 200 деревьев составляет 0,71, что на ~4% больше, чем для 30 деревьев.  Для достижения большего качества имеет смысл использовать более 30 деревьев. Для ускорения обучения можно использовать не всю выборку, а некоторое ее подмножество — например, половину объектов. Также можно уменьшить глубину деревьев (max_depth)."
   ]
  },
  {
   "cell_type": "markdown",
   "metadata": {},
   "source": [
    "# Подход 2: логистическая регрессия\n",
    "\n",
    "## 1. Оцените качество логистической регрессии (sklearn.linear_model.LogisticRegression с L2-регуляризацией) с помощью кросс-валидации по той же схеме, которая использовалась для градиентного бустинга."
   ]
  },
  {
   "cell_type": "code",
   "execution_count": 41,
   "metadata": {},
   "outputs": [],
   "source": [
    "scaler = StandardScaler()\n",
    "X_train_scaled = pd.DataFrame(scaler.fit_transform(X_train), index=X_train.index, columns=X_train.columns)"
   ]
  },
  {
   "cell_type": "code",
   "execution_count": 37,
   "metadata": {
    "scrolled": false
   },
   "outputs": [
    {
     "name": "stdout",
     "output_type": "stream",
     "text": [
      "C: 0.0001\n",
      "Cross validation quality: 0.7112865148335556\n",
      "Time elapsed: 0:00:12.141361\n",
      "\n",
      "C: 0.001\n",
      "Cross validation quality: 0.7162096360086553\n",
      "Time elapsed: 0:00:14.449532\n",
      "\n",
      "C: 0.01\n",
      "Cross validation quality: 0.7163757959125769\n",
      "Time elapsed: 0:00:19.052161\n",
      "\n",
      "C: 0.1\n",
      "Cross validation quality: 0.7163509299301707\n",
      "Time elapsed: 0:00:19.409159\n",
      "\n",
      "C: 1\n",
      "Cross validation quality: 0.7163472703068168\n",
      "Time elapsed: 0:00:19.552215\n",
      "\n",
      "C: 10\n",
      "Cross validation quality: 0.7163470734968606\n",
      "Time elapsed: 0:00:19.658001\n",
      "\n",
      "C: 100\n",
      "Cross validation quality: 0.716347075646171\n",
      "Time elapsed: 0:00:21.388876\n",
      "\n",
      "C: 1000\n",
      "Cross validation quality: 0.7163470904820135\n",
      "Time elapsed: 0:00:19.106063\n",
      "\n"
     ]
    }
   ],
   "source": [
    "res_cv_score_lr = []\n",
    "times_lr = []\n",
    "hyp_par = [0.0001,0.001, 0.01, 0.1, 1, 10, 100, 1000]\n",
    "for c in hyp_par:\n",
    "    print('C: {}'.format(c))\n",
    "    start_time = datetime.datetime.now()\n",
    "    res = cross_val_score(LogisticRegression(C=c, random_state=1), X_train_scaled, y_train, cv=kf, scoring=\"roc_auc\", n_jobs=-1).mean()\n",
    "    res_cv_score_lr.append(res)\n",
    "    print('Cross validation quality: {}'.format(res))\n",
    "    time = datetime.datetime.now() - start_time\n",
    "    times_lr.append(time)\n",
    "    print('Time elapsed: {}'.format(time))\n",
    "    print()"
   ]
  },
  {
   "cell_type": "markdown",
   "metadata": {},
   "source": [
    "Лучшее значение метрики качества на кросс валидации 0,72 при С=0,01. Логистистическая регрессия работает в 3,5 раза быстрее \n",
    "градиентного бустинга на 30 деревьях и в 10 раз быстрее, чем на 100 деревьях. Логистическая регрессия дает схожий результат\n",
    "с ГБ на 100 деревьях. Признаки скорее всего линейно связаны с целевой переменной и поэтому ЛР дает такой же результат как и более сложная модель."
   ]
  },
  {
   "cell_type": "code",
   "execution_count": 38,
   "metadata": {},
   "outputs": [
    {
     "data": {
      "text/plain": [
       "[<matplotlib.lines.Line2D at 0x9f087b0>]"
      ]
     },
     "execution_count": 38,
     "metadata": {},
     "output_type": "execute_result"
    },
    {
     "data": {
      "image/png": "[encoded data removed]",
      "text/plain": [
       "<Figure size 432x288 with 1 Axes>"
      ]
     },
     "metadata": {
      "needs_background": "light"
     },
     "output_type": "display_data"
    }
   ],
   "source": [
    "plt.plot(hyp_par, res_cv_score_lr)"
   ]
  },
  {
   "cell_type": "code",
   "execution_count": 39,
   "metadata": {},
   "outputs": [
    {
     "data": {
      "text/plain": [
       "[<matplotlib.lines.Line2D at 0x9c82b70>]"
      ]
     },
     "execution_count": 39,
     "metadata": {},
     "output_type": "execute_result"
    },
    {
     "data": {
      "image/png": "[encoded data removed]",
      "text/plain": [
       "<Figure size 432x288 with 1 Axes>"
      ]
     },
     "metadata": {
      "needs_background": "light"
     },
     "output_type": "display_data"
    }
   ],
   "source": [
    "time_sec_lr = []\n",
    "for t in times_lr:\n",
    "    time_sec_lr.append(t.seconds)\n",
    "plt.plot(hyp_par, time_sec_lr)"
   ]
  },
  {
   "cell_type": "markdown",
   "metadata": {},
   "source": [
    "## 2. Среди признаков в выборке есть категориальные, которые мы использовали как числовые, что вряд ли является хорошей идеей.\n",
    "\n",
    "Категориальных признаков в этой задаче одиннадцать: lobby_type и r1_hero, r2_hero, ..., r5_hero, d1_hero, d2_hero, ..., d5_hero. Уберите их из выборки, и проведите кросс-валидацию для логистической регрессии на новой выборке с подбором лучшего параметра регуляризации. Изменилось ли качество? Чем вы можете это объяснить?"
   ]
  },
  {
   "cell_type": "code",
   "execution_count": 42,
   "metadata": {},
   "outputs": [],
   "source": [
    "columns_1_6 = [f\"r{i}_hero\" for i in range (1, 6)] + [f\"d{i}_hero\" for i in range (1, 6)]\n",
    "columns_cat_to_drop = [\"lobby_type\"] + columns_1_6\n",
    "X_train_scaled.drop(columns_cat_to_drop, axis=1, inplace=True)"
   ]
  },
  {
   "cell_type": "code",
   "execution_count": 44,
   "metadata": {},
   "outputs": [
    {
     "name": "stdout",
     "output_type": "stream",
     "text": [
      "C: 0.0001\n",
      "Cross validation quality: 0.7112629500700418\n",
      "Time elapsed: 0:00:14.526850\n",
      "\n",
      "C: 0.001\n",
      "Cross validation quality: 0.7162333103715236\n",
      "Time elapsed: 0:00:13.334386\n",
      "\n",
      "C: 0.01\n",
      "Cross validation quality: 0.7164088702736156\n",
      "Time elapsed: 0:00:16.188225\n",
      "\n",
      "C: 0.1\n",
      "Cross validation quality: 0.716383801538205\n",
      "Time elapsed: 0:00:16.989784\n",
      "\n",
      "C: 1\n",
      "Cross validation quality: 0.7163803390297804\n",
      "Time elapsed: 0:00:17.754035\n",
      "\n",
      "C: 10\n",
      "Cross validation quality: 0.7163798497335823\n",
      "Time elapsed: 0:00:17.305583\n",
      "\n",
      "C: 100\n",
      "Cross validation quality: 0.7163796823834381\n",
      "Time elapsed: 0:00:16.952222\n",
      "\n",
      "C: 1000\n",
      "Cross validation quality: 0.7163796929771316\n",
      "Time elapsed: 0:00:16.645428\n",
      "\n"
     ]
    }
   ],
   "source": [
    "res_cv_score_lr = []\n",
    "times_lr = []\n",
    "hyp_par = [0.0001,0.001, 0.01, 0.1, 1, 10, 100, 1000]\n",
    "for c in hyp_par:\n",
    "    print('C: {}'.format(c))\n",
    "    start_time = datetime.datetime.now()\n",
    "    res = cross_val_score(LogisticRegression(C=c, random_state=1), X_train_scaled, y_train, cv=kf, scoring=\"roc_auc\", n_jobs=-1).mean()\n",
    "    res_cv_score_lr.append(res)\n",
    "    print('Cross validation quality: {}'.format(res))\n",
    "    time = datetime.datetime.now() - start_time\n",
    "    times_lr.append(time)\n",
    "    print('Time elapsed: {}'.format(time))\n",
    "    print()"
   ]
  },
  {
   "cell_type": "markdown",
   "metadata": {},
   "source": [
    "Лучшее значение метрики качества на кросс валидации без категориальных признаков 0,72 при С=0,01. Удаление категориальных признаков не повлияло на качество предсказания- можем сделать вывод, что они не влияют на результат."
   ]
  },
  {
   "cell_type": "markdown",
   "metadata": {},
   "source": [
    "## 3. На предыдущем шаге мы исключили из выборки признаки rM_hero и dM_hero, которые показывают, какие именно герои играли за каждую команду. \n",
    "\n",
    "Это важные признаки — герои имеют разные характеристики, и некоторые из них выигрывают чаще, чем другие. Выясните из данных, сколько различных идентификаторов героев существует в данной игре (вам может пригодиться фукнция unique или value_counts)."
   ]
  },
  {
   "cell_type": "code",
   "execution_count": 45,
   "metadata": {},
   "outputs": [
    {
     "name": "stdout",
     "output_type": "stream",
     "text": [
      "Количество уникальных героев: 108\n"
     ]
    }
   ],
   "source": [
    "unique = np.unique(df[columns_1_6].values.ravel())\n",
    "print('Количество уникальных героев: {}'.format(len(unique)))"
   ]
  },
  {
   "cell_type": "markdown",
   "metadata": {},
   "source": [
    "## 4. Воспользуемся подходом \"мешок слов\" для кодирования информации о героях.\n",
    "Пусть всего в игре имеет N различных героев. Сформируем N признаков, при этом i-й будет равен нулю, если i-й герой не участвовал в матче; единице, если i-й герой играл за команду Radiant; минус единице, если i-й герой играл за команду Dire. Ниже вы можете найти код, который выполняет данной преобразование. Добавьте полученные признаки к числовым, которые вы использовали во втором пункте данного этапа."
   ]
  },
  {
   "cell_type": "code",
   "execution_count": 53,
   "metadata": {},
   "outputs": [],
   "source": [
    "X_pick = np.zeros((df.shape[0], max(unique)))\n",
    "for i, match_id in enumerate(df.index):\n",
    "    for p in range(1, 6):\n",
    "        X_pick[i, df.loc[match_id, f\"r{p}_hero\"] - 1] = 1\n",
    "        X_pick[i, df.loc[match_id, f\"d{p}_hero\"] - 1] = -1\n",
    "X_pick = pd.DataFrame(X_pick, index=df.index, columns=[f\"hero_{i}\" for i in range(max(unique))])\n",
    "X_train_scaled_bag = pd.concat([X_train_scaled, X_pick], axis=1)"
   ]
  },
  {
   "cell_type": "markdown",
   "metadata": {},
   "source": [
    "## 5. Проведите кросс-валидацию для логистической регрессии на новой выборке с подбором лучшего параметра регуляризации.\n",
    "\n",
    "Какое получилось качество? Улучшилось ли оно? Чем вы можете это объяснить?"
   ]
  },
  {
   "cell_type": "code",
   "execution_count": 54,
   "metadata": {},
   "outputs": [
    {
     "name": "stdout",
     "output_type": "stream",
     "text": [
      "C: 0.0001\n",
      "Cross validation quality: 0.7250091276027153\n",
      "Time elapsed: 0:00:30.600941\n",
      "\n",
      "C: 0.001\n",
      "Cross validation quality: 0.7462121394980905\n",
      "Time elapsed: 0:00:16.890262\n",
      "\n",
      "C: 0.01\n",
      "Cross validation quality: 0.7516515685079631\n",
      "Time elapsed: 0:00:25.751818\n",
      "\n",
      "C: 0.1\n",
      "Cross validation quality: 0.7518733239466562\n",
      "Time elapsed: 0:00:35.845830\n",
      "\n",
      "C: 1\n",
      "Cross validation quality: 0.7518569888921663\n",
      "Time elapsed: 0:00:37.818050\n",
      "\n",
      "C: 10\n",
      "Cross validation quality: 0.7518557503285759\n",
      "Time elapsed: 0:00:38.610209\n",
      "\n",
      "C: 100\n",
      "Cross validation quality: 0.751855462368788\n",
      "Time elapsed: 0:00:36.643918\n",
      "\n",
      "C: 1000\n",
      "Cross validation quality: 0.7518556106003842\n",
      "Time elapsed: 0:00:36.566689\n",
      "\n"
     ]
    }
   ],
   "source": [
    "res_cv_score_lr = []\n",
    "times_lr = []\n",
    "hyp_par = [0.0001,0.001, 0.01, 0.1, 1, 10, 100, 1000]\n",
    "for c in hyp_par:\n",
    "    print('C: {}'.format(c))\n",
    "    start_time = datetime.datetime.now()\n",
    "    res = cross_val_score(LogisticRegression(C=c, random_state=1), X_train_scaled_bag, y_train, cv=kf, scoring=\"roc_auc\", n_jobs=-1).mean()\n",
    "    res_cv_score_lr.append(res)\n",
    "    print('Cross validation quality: {}'.format(res))\n",
    "    time = datetime.datetime.now() - start_time\n",
    "    times_lr.append(time)\n",
    "    print('Time elapsed: {}'.format(time))\n",
    "    print()"
   ]
  },
  {
   "cell_type": "markdown",
   "metadata": {},
   "source": [
    "Лучшее значение метрики качества на кросс валидации  0,75 при С=0,1. После добавления информации о героях качество\n",
    "улучшилось. Это можно обьяснить тем, что трансформировав категориальные признаки мы добавили новую информацию в датасет\n",
    "вместо 'шума'."
   ]
  },
  {
   "cell_type": "markdown",
   "metadata": {},
   "source": [
    "## 6. Постройте предсказания вероятностей победы команды Radiant для тестовой выборки с помощью лучшей из изученных моделей (лучшей с точки зрения AUC-ROC на кросс-валидации). \n",
    "\n",
    "Убедитесь, что предсказанные вероятности адекватные — находятся на отрезке [0, 1], не совпадают между собой (т.е. что модель не получилась константной)."
   ]
  },
  {
   "cell_type": "code",
   "execution_count": 55,
   "metadata": {},
   "outputs": [
    {
     "data": {
      "text/plain": [
       "LogisticRegression(C=0.1, class_weight=None, dual=False, fit_intercept=True,\n",
       "                   intercept_scaling=1, l1_ratio=None, max_iter=100,\n",
       "                   multi_class='warn', n_jobs=None, penalty='l2',\n",
       "                   random_state=1, solver='warn', tol=0.0001, verbose=0,\n",
       "                   warm_start=False)"
      ]
     },
     "execution_count": 55,
     "metadata": {},
     "output_type": "execute_result"
    }
   ],
   "source": [
    "lr = LogisticRegression(C=0.1, random_state=1)\n",
    "lr.fit(X_train_scaled_bag, y_train)"
   ]
  },
  {
   "cell_type": "code",
   "execution_count": 66,
   "metadata": {},
   "outputs": [],
   "source": [
    "df_test = pd.read_csv('features_test.csv', index_col=\"match_id\")\n",
    "df_test.fillna(0, inplace=True)\n",
    "\n",
    "X_test_scaled = pd.DataFrame(scaler.fit_transform(df_test), index=df_test.index, columns=df_test.columns)\n",
    "X_test_scaled.drop(columns_cat_to_drop, axis=1, inplace=True)\n",
    "\n",
    "X_pick_test = np.zeros((df_test.shape[0], max(unique)))\n",
    "for i, match_id in enumerate(df_test.index):\n",
    "    for p in range(1, 6):\n",
    "        X_pick_test[i, df_test.loc[match_id, f\"r{p}_hero\"] - 1] = 1\n",
    "        X_pick_test[i, df_test.loc[match_id, f\"d{p}_hero\"] - 1] = -1\n",
    "X_pick_test = pd.DataFrame(X_pick_test, index=df_test.index, columns=[f\"hero_{i}\" for i in range(max(unique))])    \n",
    "\n",
    "X_test_scaled_bag = pd.concat([X_test_scaled, X_pick_test], axis=1)"
   ]
  },
  {
   "cell_type": "code",
   "execution_count": 71,
   "metadata": {},
   "outputs": [
    {
     "name": "stdout",
     "output_type": "stream",
     "text": [
      "[0.82466532 0.75716467 0.18778593 ... 0.234004   0.62470705 0.4270961 ]\n"
     ]
    }
   ],
   "source": [
    "pred = lr.predict_proba(X_test_scaled_bag)[:, 1]\n",
    "print(pred)"
   ]
  },
  {
   "cell_type": "code",
   "execution_count": 73,
   "metadata": {},
   "outputs": [
    {
     "name": "stdout",
     "output_type": "stream",
     "text": [
      "0.008580621772195629 0.996458657130964\n"
     ]
    }
   ],
   "source": [
    "print(min(pred), max(pred))"
   ]
  },
  {
   "cell_type": "markdown",
   "metadata": {},
   "source": [
    "Значения разные и находятся в интервале [0,1]"
   ]
  },
  {
   "cell_type": "markdown",
   "metadata": {},
   "source": [
    "#  Отчет Linear Regression\n",
    "\n",
    "1. Лучшее значение метрики качества на кросс валидации 0,72 при С=0,01. Логистистическая регрессия работает в 3,5 раза быстрее \n",
    "   бустинга на 30 деревьях и в 10 раз быстрее, чем на 100 деревьях. Логистическая регрессия дает схожий результат\n",
    "   с ГБ на 100 деревьях. Признаки скорее всего линейно связаны с целевой переменной и поэтому ЛР дает такой же результат как и    более сложная модель.\n",
    "2. Лучшее значение метрики качества на кросс валидации без категориальных признаков 0,72 при С=0,01. Удаление категориальных      признаков не повлияло на качество предсказания- можем сделать вывод, что они не влияют на результат. Кат. призн. - шум.\n",
    "3. Количество уникальных героев: 108\n",
    "4. Лучшее значение метрики качества на кросс валидации 0,75 при С=0,1. После добавления информации о героях качество    улучшилось. Это можно обьяснить тем, что трансформировав категориальные признаки мы добавили новую информацию в датасет\n",
    "   вместо 'шума'.\n",
    "5. 0.008580621772195629 0.996458657130964"
   ]
  }
 ],
 "metadata": {
  "kernelspec": {
   "display_name": "Python 3",
   "language": "python",
   "name": "python3"
  },
  "language_info": {
   "codemirror_mode": {
    "name": "ipython",
    "version": 3
   },
   "file_extension": ".py",
   "mimetype": "text/x-python",
   "name": "python",
   "nbconvert_exporter": "python",
   "pygments_lexer": "ipython3",
   "version": "3.7.3"
  }
 },
 "nbformat": 4,
 "nbformat_minor": 2
}
